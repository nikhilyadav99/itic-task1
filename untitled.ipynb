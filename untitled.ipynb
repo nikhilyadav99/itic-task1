{
 "cells": [
  {
   "cell_type": "code",
   "execution_count": 1,
   "metadata": {},
   "outputs": [],
   "source": [
    "import pandas as pd"
   ]
  },
  {
   "cell_type": "code",
   "execution_count": 2,
   "metadata": {},
   "outputs": [],
   "source": [
    "data = pd.read_csv(\"data.csv\")"
   ]
  },
  {
   "cell_type": "code",
   "execution_count": 3,
   "metadata": {},
   "outputs": [
    {
     "data": {
      "text/html": [
       "<div>\n",
       "<style scoped>\n",
       "    .dataframe tbody tr th:only-of-type {\n",
       "        vertical-align: middle;\n",
       "    }\n",
       "\n",
       "    .dataframe tbody tr th {\n",
       "        vertical-align: top;\n",
       "    }\n",
       "\n",
       "    .dataframe thead th {\n",
       "        text-align: right;\n",
       "    }\n",
       "</style>\n",
       "<table border=\"1\" class=\"dataframe\">\n",
       "  <thead>\n",
       "    <tr style=\"text-align: right;\">\n",
       "      <th></th>\n",
       "      <th>Id</th>\n",
       "      <th>Title</th>\n",
       "      <th>Body</th>\n",
       "      <th>Tags</th>\n",
       "      <th>CreationDate</th>\n",
       "      <th>Y</th>\n",
       "    </tr>\n",
       "  </thead>\n",
       "  <tbody>\n",
       "    <tr>\n",
       "      <th>0</th>\n",
       "      <td>34552656</td>\n",
       "      <td>Java: Repeat Task Every Random Seconds</td>\n",
       "      <td>&lt;p&gt;I'm already familiar with repeating tasks e...</td>\n",
       "      <td>&lt;java&gt;&lt;repeat&gt;</td>\n",
       "      <td>2016-01-01 00:21:59</td>\n",
       "      <td>LQ_CLOSE</td>\n",
       "    </tr>\n",
       "    <tr>\n",
       "      <th>1</th>\n",
       "      <td>34552974</td>\n",
       "      <td>How to get all the child records from differen...</td>\n",
       "      <td>I am having 4 different tables like \\r\\nselect...</td>\n",
       "      <td>&lt;sql&gt;&lt;sql-server&gt;</td>\n",
       "      <td>2016-01-01 01:44:52</td>\n",
       "      <td>LQ_EDIT</td>\n",
       "    </tr>\n",
       "    <tr>\n",
       "      <th>2</th>\n",
       "      <td>34553034</td>\n",
       "      <td>Why are Java Optionals immutable?</td>\n",
       "      <td>&lt;p&gt;I'd like to understand why Java 8 Optionals...</td>\n",
       "      <td>&lt;java&gt;&lt;optional&gt;</td>\n",
       "      <td>2016-01-01 02:03:20</td>\n",
       "      <td>HQ</td>\n",
       "    </tr>\n",
       "    <tr>\n",
       "      <th>3</th>\n",
       "      <td>34553174</td>\n",
       "      <td>Text Overlay Image with Darkened Opacity React...</td>\n",
       "      <td>&lt;p&gt;I am attempting to overlay a title over an ...</td>\n",
       "      <td>&lt;javascript&gt;&lt;image&gt;&lt;overlay&gt;&lt;react-native&gt;&lt;opa...</td>\n",
       "      <td>2016-01-01 02:48:24</td>\n",
       "      <td>HQ</td>\n",
       "    </tr>\n",
       "    <tr>\n",
       "      <th>4</th>\n",
       "      <td>34553318</td>\n",
       "      <td>Why ternary operator in swift is so picky?</td>\n",
       "      <td>&lt;p&gt;The question is very simple, but I just cou...</td>\n",
       "      <td>&lt;swift&gt;&lt;operators&gt;&lt;whitespace&gt;&lt;ternary-operato...</td>\n",
       "      <td>2016-01-01 03:30:17</td>\n",
       "      <td>HQ</td>\n",
       "    </tr>\n",
       "    <tr>\n",
       "      <th>...</th>\n",
       "      <td>...</td>\n",
       "      <td>...</td>\n",
       "      <td>...</td>\n",
       "      <td>...</td>\n",
       "      <td>...</td>\n",
       "      <td>...</td>\n",
       "    </tr>\n",
       "    <tr>\n",
       "      <th>59995</th>\n",
       "      <td>60467932</td>\n",
       "      <td>C++ The correct way to multiply an integer and...</td>\n",
       "      <td>&lt;p&gt;I try to multiply an integer by a double bu...</td>\n",
       "      <td>&lt;c++&gt;</td>\n",
       "      <td>2020-02-29 17:46:41</td>\n",
       "      <td>LQ_CLOSE</td>\n",
       "    </tr>\n",
       "    <tr>\n",
       "      <th>59996</th>\n",
       "      <td>60468018</td>\n",
       "      <td>How can I make a c# application outside of vis...</td>\n",
       "      <td>&lt;p&gt;I'm very new to programming and I'm teachin...</td>\n",
       "      <td>&lt;c#&gt;&lt;visual-studio&gt;</td>\n",
       "      <td>2020-02-29 17:55:56</td>\n",
       "      <td>LQ_CLOSE</td>\n",
       "    </tr>\n",
       "    <tr>\n",
       "      <th>59997</th>\n",
       "      <td>60468378</td>\n",
       "      <td>WHY DJANGO IS SHOWING ME THIS ERROR WHEN I TRY...</td>\n",
       "      <td>*URLS.PY*\\r\\n    //URLS.PY FILE\\r\\n    fro...</td>\n",
       "      <td>&lt;django&gt;&lt;django-views&gt;&lt;django-templates&gt;</td>\n",
       "      <td>2020-02-29 18:35:39</td>\n",
       "      <td>LQ_EDIT</td>\n",
       "    </tr>\n",
       "    <tr>\n",
       "      <th>59998</th>\n",
       "      <td>60469392</td>\n",
       "      <td>PHP - getting the content of php page</td>\n",
       "      <td>&lt;p&gt;I have a controller inside which a server i...</td>\n",
       "      <td>&lt;javascript&gt;&lt;php&gt;&lt;html&gt;</td>\n",
       "      <td>2020-02-29 20:32:14</td>\n",
       "      <td>LQ_CLOSE</td>\n",
       "    </tr>\n",
       "    <tr>\n",
       "      <th>59999</th>\n",
       "      <td>60470323</td>\n",
       "      <td>Why can't overloaded functions vary only by re...</td>\n",
       "      <td>&lt;p&gt;So i was recently helping someone out with ...</td>\n",
       "      <td>&lt;c++&gt;&lt;overloading&gt;&lt;return-type&gt;</td>\n",
       "      <td>2020-02-29 22:45:56</td>\n",
       "      <td>LQ_CLOSE</td>\n",
       "    </tr>\n",
       "  </tbody>\n",
       "</table>\n",
       "<p>60000 rows × 6 columns</p>\n",
       "</div>"
      ],
      "text/plain": [
       "             Id                                              Title  \\\n",
       "0      34552656             Java: Repeat Task Every Random Seconds   \n",
       "1      34552974  How to get all the child records from differen...   \n",
       "2      34553034                  Why are Java Optionals immutable?   \n",
       "3      34553174  Text Overlay Image with Darkened Opacity React...   \n",
       "4      34553318         Why ternary operator in swift is so picky?   \n",
       "...         ...                                                ...   \n",
       "59995  60467932  C++ The correct way to multiply an integer and...   \n",
       "59996  60468018  How can I make a c# application outside of vis...   \n",
       "59997  60468378  WHY DJANGO IS SHOWING ME THIS ERROR WHEN I TRY...   \n",
       "59998  60469392              PHP - getting the content of php page   \n",
       "59999  60470323  Why can't overloaded functions vary only by re...   \n",
       "\n",
       "                                                    Body  \\\n",
       "0      <p>I'm already familiar with repeating tasks e...   \n",
       "1      I am having 4 different tables like \\r\\nselect...   \n",
       "2      <p>I'd like to understand why Java 8 Optionals...   \n",
       "3      <p>I am attempting to overlay a title over an ...   \n",
       "4      <p>The question is very simple, but I just cou...   \n",
       "...                                                  ...   \n",
       "59995  <p>I try to multiply an integer by a double bu...   \n",
       "59996  <p>I'm very new to programming and I'm teachin...   \n",
       "59997      *URLS.PY*\\r\\n    //URLS.PY FILE\\r\\n    fro...   \n",
       "59998  <p>I have a controller inside which a server i...   \n",
       "59999  <p>So i was recently helping someone out with ...   \n",
       "\n",
       "                                                    Tags         CreationDate  \\\n",
       "0                                         <java><repeat>  2016-01-01 00:21:59   \n",
       "1                                      <sql><sql-server>  2016-01-01 01:44:52   \n",
       "2                                       <java><optional>  2016-01-01 02:03:20   \n",
       "3      <javascript><image><overlay><react-native><opa...  2016-01-01 02:48:24   \n",
       "4      <swift><operators><whitespace><ternary-operato...  2016-01-01 03:30:17   \n",
       "...                                                  ...                  ...   \n",
       "59995                                              <c++>  2020-02-29 17:46:41   \n",
       "59996                                <c#><visual-studio>  2020-02-29 17:55:56   \n",
       "59997           <django><django-views><django-templates>  2020-02-29 18:35:39   \n",
       "59998                            <javascript><php><html>  2020-02-29 20:32:14   \n",
       "59999                    <c++><overloading><return-type>  2020-02-29 22:45:56   \n",
       "\n",
       "              Y  \n",
       "0      LQ_CLOSE  \n",
       "1       LQ_EDIT  \n",
       "2            HQ  \n",
       "3            HQ  \n",
       "4            HQ  \n",
       "...         ...  \n",
       "59995  LQ_CLOSE  \n",
       "59996  LQ_CLOSE  \n",
       "59997   LQ_EDIT  \n",
       "59998  LQ_CLOSE  \n",
       "59999  LQ_CLOSE  \n",
       "\n",
       "[60000 rows x 6 columns]"
      ]
     },
     "execution_count": 3,
     "metadata": {},
     "output_type": "execute_result"
    }
   ],
   "source": [
    "data"
   ]
  },
  {
   "cell_type": "code",
   "execution_count": 4,
   "metadata": {},
   "outputs": [],
   "source": [
    "import matplotlib.pyplot as plot"
   ]
  },
  {
   "cell_type": "code",
   "execution_count": 5,
   "metadata": {
    "scrolled": true
   },
   "outputs": [
    {
     "data": {
      "text/plain": [
       "<AxesSubplot:>"
      ]
     },
     "execution_count": 5,
     "metadata": {},
     "output_type": "execute_result"
    },
    {
     "data": {
      "image/png": "[encoded data removed]",
      "text/plain": [
       "<Figure size 432x288 with 1 Axes>"
      ]
     },
     "metadata": {
      "needs_background": "light"
     },
     "output_type": "display_data"
    }
   ],
   "source": [
    "data['Y'].value_counts().plot(kind='bar')"
   ]
  }
 ],
 "metadata": {
  "kernelspec": {
   "display_name": "Python 3",
   "language": "python",
   "name": "python3"
  },
  "language_info": {
   "codemirror_mode": {
    "name": "ipython",
    "version": 3
   },
   "file_extension": ".py",
   "mimetype": "text/x-python",
   "name": "python",
   "nbconvert_exporter": "python",
   "pygments_lexer": "ipython3",
   "version": "3.8.5"
  }
 },
 "nbformat": 4,
 "nbformat_minor": 4
}
