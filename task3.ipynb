{
 "cells": [
  {
   "cell_type": "code",
   "execution_count": 1,
   "metadata": {},
   "outputs": [],
   "source": [
    "# importing all the required packages\n",
    "import pandas as pd\n",
    "import numpy as np \n",
    "import matplotlib.pyplot as plt\n",
    "import seaborn as sns\n",
    "from pandas import DataFrame"
   ]
  },
  {
   "cell_type": "code",
   "execution_count": 2,
   "metadata": {
    "scrolled": true
   },
   "outputs": [
    {
     "data": {
      "text/html": [
       "<div>\n",
       "<style scoped>\n",
       "    .dataframe tbody tr th:only-of-type {\n",
       "        vertical-align: middle;\n",
       "    }\n",
       "\n",
       "    .dataframe tbody tr th {\n",
       "        vertical-align: top;\n",
       "    }\n",
       "\n",
       "    .dataframe thead th {\n",
       "        text-align: right;\n",
       "    }\n",
       "</style>\n",
       "<table border=\"1\" class=\"dataframe\">\n",
       "  <thead>\n",
       "    <tr style=\"text-align: right;\">\n",
       "      <th></th>\n",
       "      <th>thread_id</th>\n",
       "      <th>course_id</th>\n",
       "      <th>og_forum</th>\n",
       "      <th>og_forum_id</th>\n",
       "      <th>parent_forum</th>\n",
       "      <th>parent_forum_id</th>\n",
       "      <th>forum_chain</th>\n",
       "      <th>depth</th>\n",
       "      <th>num_views</th>\n",
       "      <th>num_tags</th>\n",
       "      <th>forum_id</th>\n",
       "    </tr>\n",
       "  </thead>\n",
       "  <tbody>\n",
       "    <tr>\n",
       "      <th>0</th>\n",
       "      <td>2</td>\n",
       "      <td>analysenumerique-001</td>\n",
       "      <td>Questions d'ordre technique (coursera, octave,...</td>\n",
       "      <td>13</td>\n",
       "      <td>Forums</td>\n",
       "      <td>0.0</td>\n",
       "      <td>Forums/ Questions d'ordre technique (coursera,...</td>\n",
       "      <td>2</td>\n",
       "      <td>277</td>\n",
       "      <td>0</td>\n",
       "      <td>13</td>\n",
       "    </tr>\n",
       "    <tr>\n",
       "      <th>1</th>\n",
       "      <td>3</td>\n",
       "      <td>analysenumerique-001</td>\n",
       "      <td>Questions d'ordre technique (coursera, octave,...</td>\n",
       "      <td>13</td>\n",
       "      <td>Forums</td>\n",
       "      <td>0.0</td>\n",
       "      <td>Forums/ Questions d'ordre technique (coursera,...</td>\n",
       "      <td>2</td>\n",
       "      <td>572</td>\n",
       "      <td>0</td>\n",
       "      <td>13</td>\n",
       "    </tr>\n",
       "  </tbody>\n",
       "</table>\n",
       "</div>"
      ],
      "text/plain": [
       "   thread_id             course_id  \\\n",
       "0          2  analysenumerique-001   \n",
       "1          3  analysenumerique-001   \n",
       "\n",
       "                                            og_forum  og_forum_id  \\\n",
       "0  Questions d'ordre technique (coursera, octave,...           13   \n",
       "1  Questions d'ordre technique (coursera, octave,...           13   \n",
       "\n",
       "  parent_forum  parent_forum_id  \\\n",
       "0       Forums              0.0   \n",
       "1       Forums              0.0   \n",
       "\n",
       "                                         forum_chain  depth  num_views  \\\n",
       "0  Forums/ Questions d'ordre technique (coursera,...      2        277   \n",
       "1  Forums/ Questions d'ordre technique (coursera,...      2        572   \n",
       "\n",
       "   num_tags  forum_id  \n",
       "0         0        13  \n",
       "1         0        13  "
      ]
     },
     "execution_count": 2,
     "metadata": {},
     "output_type": "execute_result"
    }
   ],
   "source": [
    "df = pd.read_csv(\"course_threads.csv\") #loading the dataset\n",
    "df.head(2)"
   ]
  },
  {
   "cell_type": "code",
   "execution_count": 3,
   "metadata": {
    "scrolled": true
   },
   "outputs": [
    {
     "data": {
      "text/html": [
       "<div>\n",
       "<style scoped>\n",
       "    .dataframe tbody tr th:only-of-type {\n",
       "        vertical-align: middle;\n",
       "    }\n",
       "\n",
       "    .dataframe tbody tr th {\n",
       "        vertical-align: top;\n",
       "    }\n",
       "\n",
       "    .dataframe thead th {\n",
       "        text-align: right;\n",
       "    }\n",
       "</style>\n",
       "<table border=\"1\" class=\"dataframe\">\n",
       "  <thead>\n",
       "    <tr style=\"text-align: right;\">\n",
       "      <th></th>\n",
       "      <th>name</th>\n",
       "      <th>course_id</th>\n",
       "      <th>weeks</th>\n",
       "      <th>hours</th>\n",
       "      <th>start_date</th>\n",
       "      <th>end_date</th>\n",
       "      <th>type</th>\n",
       "      <th>language</th>\n",
       "      <th>num_threads</th>\n",
       "      <th>mandatory_posts</th>\n",
       "      <th>num_users</th>\n",
       "    </tr>\n",
       "  </thead>\n",
       "  <tbody>\n",
       "    <tr>\n",
       "      <th>0</th>\n",
       "      <td>Analyse Numérique pour Ingénieurs</td>\n",
       "      <td>analysenumerique-001</td>\n",
       "      <td>9</td>\n",
       "      <td>5</td>\n",
       "      <td>2/18/2013</td>\n",
       "      <td>NaN</td>\n",
       "      <td>Q</td>\n",
       "      <td>FR</td>\n",
       "      <td>119</td>\n",
       "      <td>NaN</td>\n",
       "      <td>103</td>\n",
       "    </tr>\n",
       "    <tr>\n",
       "      <th>1</th>\n",
       "      <td>Asset Pricing</td>\n",
       "      <td>assetpricing-001</td>\n",
       "      <td>9</td>\n",
       "      <td>12.5</td>\n",
       "      <td>9/30/2013</td>\n",
       "      <td>NaN</td>\n",
       "      <td>Q</td>\n",
       "      <td>E</td>\n",
       "      <td>673</td>\n",
       "      <td>NaN</td>\n",
       "      <td>392</td>\n",
       "    </tr>\n",
       "  </tbody>\n",
       "</table>\n",
       "</div>"
      ],
      "text/plain": [
       "                                name             course_id  weeks hours  \\\n",
       "0  Analyse Numérique pour Ingénieurs  analysenumerique-001      9     5   \n",
       "1                      Asset Pricing      assetpricing-001      9  12.5   \n",
       "\n",
       "  start_date end_date type language  num_threads mandatory_posts  num_users  \n",
       "0  2/18/2013      NaN    Q       FR          119             NaN        103  \n",
       "1  9/30/2013      NaN    Q        E          673             NaN        392  "
      ]
     },
     "execution_count": 3,
     "metadata": {},
     "output_type": "execute_result"
    }
   ],
   "source": [
    "df1 = pd.read_csv(\"course_information.csv\") #loading the dataset\n",
    "df1.head(2)"
   ]
  },
  {
   "cell_type": "code",
   "execution_count": 4,
   "metadata": {},
   "outputs": [
    {
     "data": {
      "text/html": [
       "<div>\n",
       "<style scoped>\n",
       "    .dataframe tbody tr th:only-of-type {\n",
       "        vertical-align: middle;\n",
       "    }\n",
       "\n",
       "    .dataframe tbody tr th {\n",
       "        vertical-align: top;\n",
       "    }\n",
       "\n",
       "    .dataframe thead th {\n",
       "        text-align: right;\n",
       "    }\n",
       "</style>\n",
       "<table border=\"1\" class=\"dataframe\">\n",
       "  <thead>\n",
       "    <tr style=\"text-align: right;\">\n",
       "      <th></th>\n",
       "      <th>post_id</th>\n",
       "      <th>thread_id</th>\n",
       "      <th>course_id</th>\n",
       "      <th>parent_id</th>\n",
       "      <th>order</th>\n",
       "      <th>user_id</th>\n",
       "      <th>user_type</th>\n",
       "      <th>post_time</th>\n",
       "      <th>relative_t</th>\n",
       "      <th>votes</th>\n",
       "      <th>num_words</th>\n",
       "      <th>forum_id</th>\n",
       "    </tr>\n",
       "  </thead>\n",
       "  <tbody>\n",
       "    <tr>\n",
       "      <th>0</th>\n",
       "      <td>3</td>\n",
       "      <td>2</td>\n",
       "      <td>analysenumerique-001</td>\n",
       "      <td>0</td>\n",
       "      <td>1</td>\n",
       "      <td>0</td>\n",
       "      <td>Anonymous</td>\n",
       "      <td>1358942448</td>\n",
       "      <td>-0.404753</td>\n",
       "      <td>2</td>\n",
       "      <td>23</td>\n",
       "      <td>13</td>\n",
       "    </tr>\n",
       "    <tr>\n",
       "      <th>1</th>\n",
       "      <td>4</td>\n",
       "      <td>2</td>\n",
       "      <td>analysenumerique-001</td>\n",
       "      <td>0</td>\n",
       "      <td>2</td>\n",
       "      <td>3992067770</td>\n",
       "      <td>Instructor</td>\n",
       "      <td>1359109877</td>\n",
       "      <td>-0.373994</td>\n",
       "      <td>0</td>\n",
       "      <td>15</td>\n",
       "      <td>13</td>\n",
       "    </tr>\n",
       "  </tbody>\n",
       "</table>\n",
       "</div>"
      ],
      "text/plain": [
       "   post_id  thread_id             course_id  parent_id  order     user_id  \\\n",
       "0        3          2  analysenumerique-001          0      1           0   \n",
       "1        4          2  analysenumerique-001          0      2  3992067770   \n",
       "\n",
       "    user_type   post_time  relative_t  votes  num_words  forum_id  \n",
       "0   Anonymous  1358942448   -0.404753      2         23        13  \n",
       "1  Instructor  1359109877   -0.373994      0         15        13  "
      ]
     },
     "execution_count": 4,
     "metadata": {},
     "output_type": "execute_result"
    }
   ],
   "source": [
    "df2 = pd.read_csv(\"course_posts.csv\") #loading the dataset\n",
    "df2.head(2)"
   ]
  },
  {
   "cell_type": "markdown",
   "metadata": {},
   "source": [
    "# Figure 1"
   ]
  },
  {
   "cell_type": "code",
   "execution_count": 5,
   "metadata": {
    "scrolled": false
   },
   "outputs": [
    {
     "data": {
      "text/html": [
       "<div>\n",
       "<style scoped>\n",
       "    .dataframe tbody tr th:only-of-type {\n",
       "        vertical-align: middle;\n",
       "    }\n",
       "\n",
       "    .dataframe tbody tr th {\n",
       "        vertical-align: top;\n",
       "    }\n",
       "\n",
       "    .dataframe thead th {\n",
       "        text-align: right;\n",
       "    }\n",
       "</style>\n",
       "<table border=\"1\" class=\"dataframe\">\n",
       "  <thead>\n",
       "    <tr style=\"text-align: right;\">\n",
       "      <th></th>\n",
       "      <th>name</th>\n",
       "      <th>course_id</th>\n",
       "      <th>weeks</th>\n",
       "      <th>hours</th>\n",
       "      <th>start_date</th>\n",
       "      <th>end_date</th>\n",
       "      <th>type</th>\n",
       "      <th>language</th>\n",
       "      <th>num_threads</th>\n",
       "      <th>mandatory_posts</th>\n",
       "      <th>num_users</th>\n",
       "    </tr>\n",
       "  </thead>\n",
       "  <tbody>\n",
       "    <tr>\n",
       "      <th>33</th>\n",
       "      <td>Introduction to Psychology</td>\n",
       "      <td>intropsych-001</td>\n",
       "      <td>8</td>\n",
       "      <td>5</td>\n",
       "      <td>5/6/2013</td>\n",
       "      <td>NaN</td>\n",
       "      <td>S</td>\n",
       "      <td>E</td>\n",
       "      <td>9300</td>\n",
       "      <td>?</td>\n",
       "      <td>11989</td>\n",
       "    </tr>\n",
       "    <tr>\n",
       "      <th>58</th>\n",
       "      <td>Video Games and Learning</td>\n",
       "      <td>videogameslearning-001</td>\n",
       "      <td>6</td>\n",
       "      <td>5</td>\n",
       "      <td>10/3/2013</td>\n",
       "      <td>NaN</td>\n",
       "      <td>E</td>\n",
       "      <td>E</td>\n",
       "      <td>8694</td>\n",
       "      <td>NaN</td>\n",
       "      <td>3415</td>\n",
       "    </tr>\n",
       "  </tbody>\n",
       "</table>\n",
       "</div>"
      ],
      "text/plain": [
       "                          name               course_id  weeks hours  \\\n",
       "33  Introduction to Psychology          intropsych-001      8     5   \n",
       "58    Video Games and Learning  videogameslearning-001      6     5   \n",
       "\n",
       "   start_date end_date type language  num_threads mandatory_posts  num_users  \n",
       "33   5/6/2013      NaN    S        E         9300               ?      11989  \n",
       "58  10/3/2013      NaN    E        E         8694             NaN       3415  "
      ]
     },
     "execution_count": 5,
     "metadata": {},
     "output_type": "execute_result"
    }
   ],
   "source": [
    "df1_sort = df1.sort_values(by = 'num_threads' , ascending = False) #sorting the values of the column in descending order\n",
    "df1_sort.head(2)"
   ]
  },
  {
   "cell_type": "code",
   "execution_count": 6,
   "metadata": {
    "scrolled": false
   },
   "outputs": [
    {
     "data": {
      "image/png": "[encoded data removed]",
      "text/plain": [
       "<Figure size 1440x360 with 1 Axes>"
      ]
     },
     "metadata": {
      "needs_background": "light"
     },
     "output_type": "display_data"
    }
   ],
   "source": [
    "#plotting bar graph for graph 1\n",
    "plt.figure(figsize=(20,5))\n",
    "sns.barplot(data = df1_sort, x = 'course_id' , y = 'num_threads' , color = 'blue')\n",
    "plt.xticks(rotation=90, horizontalalignment=\"center\")\n",
    "plt.title('Number of threads vs. course identifier')\n",
    "plt.ylabel('Number of threads', fontsize=20)\n",
    "plt.xlabel('course identifier', fontsize=20)\n",
    "plt.show()"
   ]
  },
  {
   "cell_type": "markdown",
   "metadata": {},
   "source": [
    "# Figure 3"
   ]
  },
  {
   "cell_type": "code",
   "execution_count": 7,
   "metadata": {},
   "outputs": [],
   "source": [
    "df2_groupby = df2.groupby('user_type')['post_id'].count().to_frame().reset_index() #grouping the user_type with respect to post_id"
   ]
  },
  {
   "cell_type": "code",
   "execution_count": 8,
   "metadata": {
    "scrolled": false
   },
   "outputs": [
    {
     "data": {
      "text/html": [
       "<div>\n",
       "<style scoped>\n",
       "    .dataframe tbody tr th:only-of-type {\n",
       "        vertical-align: middle;\n",
       "    }\n",
       "\n",
       "    .dataframe tbody tr th {\n",
       "        vertical-align: top;\n",
       "    }\n",
       "\n",
       "    .dataframe thead th {\n",
       "        text-align: right;\n",
       "    }\n",
       "</style>\n",
       "<table border=\"1\" class=\"dataframe\">\n",
       "  <thead>\n",
       "    <tr style=\"text-align: right;\">\n",
       "      <th></th>\n",
       "      <th>user_type</th>\n",
       "      <th>post_id</th>\n",
       "    </tr>\n",
       "  </thead>\n",
       "  <tbody>\n",
       "    <tr>\n",
       "      <th>6</th>\n",
       "      <td>Student</td>\n",
       "      <td>630713</td>\n",
       "    </tr>\n",
       "    <tr>\n",
       "      <th>0</th>\n",
       "      <td>Anonymous</td>\n",
       "      <td>70531</td>\n",
       "    </tr>\n",
       "    <tr>\n",
       "      <th>1</th>\n",
       "      <td>Community TA</td>\n",
       "      <td>17336</td>\n",
       "    </tr>\n",
       "    <tr>\n",
       "      <th>5</th>\n",
       "      <td>Staff</td>\n",
       "      <td>11986</td>\n",
       "    </tr>\n",
       "    <tr>\n",
       "      <th>4</th>\n",
       "      <td>Instructor</td>\n",
       "      <td>8118</td>\n",
       "    </tr>\n",
       "    <tr>\n",
       "      <th>3</th>\n",
       "      <td>Coursera Tech Support</td>\n",
       "      <td>228</td>\n",
       "    </tr>\n",
       "    <tr>\n",
       "      <th>2</th>\n",
       "      <td>Coursera Staff</td>\n",
       "      <td>162</td>\n",
       "    </tr>\n",
       "  </tbody>\n",
       "</table>\n",
       "</div>"
      ],
      "text/plain": [
       "               user_type  post_id\n",
       "6                Student   630713\n",
       "0              Anonymous    70531\n",
       "1           Community TA    17336\n",
       "5                  Staff    11986\n",
       "4             Instructor     8118\n",
       "3  Coursera Tech Support      228\n",
       "2         Coursera Staff      162"
      ]
     },
     "execution_count": 8,
     "metadata": {},
     "output_type": "execute_result"
    }
   ],
   "source": [
    "df2_sort = df2_groupby.sort_values(by = 'post_id' , ascending = False) ##sorting the values in descending order\n",
    "df2_sort"
   ]
  },
  {
   "cell_type": "code",
   "execution_count": 9,
   "metadata": {
    "scrolled": false
   },
   "outputs": [
    {
     "data": {
      "text/plain": [
       "Text(0, 0.5, 'Number of messages')"
      ]
     },
     "execution_count": 9,
     "metadata": {},
     "output_type": "execute_result"
    },
    {
     "data": {
      "image/png": "[encoded data removed]",
      "text/plain": [
       "<Figure size 432x288 with 1 Axes>"
      ]
     },
     "metadata": {
      "needs_background": "light"
     },
     "output_type": "display_data"
    }
   ],
   "source": [
    "#plotting bar graph for graph 3\n",
    "sns.barplot(x = 'user_type' , y = 'post_id' , \n",
    "                    data = df2_sort , color = 'blue')\n",
    "plt.yscale('log')\n",
    "plt.xticks(rotation=90, horizontalalignment=\"center\")\n",
    "plt.xlabel('user type')\n",
    "plt.ylabel('Number of messages')"
   ]
  },
  {
   "cell_type": "markdown",
   "metadata": {},
   "source": [
    "# Figure 4"
   ]
  },
  {
   "cell_type": "code",
   "execution_count": 10,
   "metadata": {},
   "outputs": [
    {
     "data": {
      "text/plain": [
       "0          True\n",
       "1          True\n",
       "2          True\n",
       "3          True\n",
       "4          True\n",
       "          ...  \n",
       "739069    False\n",
       "739070    False\n",
       "739071    False\n",
       "739072     True\n",
       "739073     True\n",
       "Name: is_post, Length: 739074, dtype: bool"
      ]
     },
     "execution_count": 10,
     "metadata": {},
     "output_type": "execute_result"
    }
   ],
   "source": [
    "df2['is_post'] = df2.parent_id==0 #checking for posts in parent_id\n",
    "df2['is_post']"
   ]
  },
  {
   "cell_type": "code",
   "execution_count": 11,
   "metadata": {},
   "outputs": [
    {
     "data": {
      "text/html": [
       "<div>\n",
       "<style scoped>\n",
       "    .dataframe tbody tr th:only-of-type {\n",
       "        vertical-align: middle;\n",
       "    }\n",
       "\n",
       "    .dataframe tbody tr th {\n",
       "        vertical-align: top;\n",
       "    }\n",
       "\n",
       "    .dataframe thead th {\n",
       "        text-align: right;\n",
       "    }\n",
       "</style>\n",
       "<table border=\"1\" class=\"dataframe\">\n",
       "  <thead>\n",
       "    <tr style=\"text-align: right;\">\n",
       "      <th></th>\n",
       "      <th>course_id</th>\n",
       "      <th>thread_id</th>\n",
       "      <th>is_post</th>\n",
       "      <th>post_id</th>\n",
       "    </tr>\n",
       "  </thead>\n",
       "  <tbody>\n",
       "    <tr>\n",
       "      <th>0</th>\n",
       "      <td>analysenumerique-001</td>\n",
       "      <td>2</td>\n",
       "      <td>False</td>\n",
       "      <td>2</td>\n",
       "    </tr>\n",
       "    <tr>\n",
       "      <th>1</th>\n",
       "      <td>analysenumerique-001</td>\n",
       "      <td>2</td>\n",
       "      <td>True</td>\n",
       "      <td>9</td>\n",
       "    </tr>\n",
       "    <tr>\n",
       "      <th>2</th>\n",
       "      <td>analysenumerique-001</td>\n",
       "      <td>3</td>\n",
       "      <td>False</td>\n",
       "      <td>3</td>\n",
       "    </tr>\n",
       "    <tr>\n",
       "      <th>3</th>\n",
       "      <td>analysenumerique-001</td>\n",
       "      <td>3</td>\n",
       "      <td>True</td>\n",
       "      <td>16</td>\n",
       "    </tr>\n",
       "    <tr>\n",
       "      <th>4</th>\n",
       "      <td>analysenumerique-001</td>\n",
       "      <td>4</td>\n",
       "      <td>True</td>\n",
       "      <td>2</td>\n",
       "    </tr>\n",
       "    <tr>\n",
       "      <th>...</th>\n",
       "      <td>...</td>\n",
       "      <td>...</td>\n",
       "      <td>...</td>\n",
       "      <td>...</td>\n",
       "    </tr>\n",
       "    <tr>\n",
       "      <th>136402</th>\n",
       "      <td>virology-001</td>\n",
       "      <td>911</td>\n",
       "      <td>True</td>\n",
       "      <td>5</td>\n",
       "    </tr>\n",
       "    <tr>\n",
       "      <th>136403</th>\n",
       "      <td>virology-001</td>\n",
       "      <td>912</td>\n",
       "      <td>True</td>\n",
       "      <td>2</td>\n",
       "    </tr>\n",
       "    <tr>\n",
       "      <th>136404</th>\n",
       "      <td>virology-001</td>\n",
       "      <td>913</td>\n",
       "      <td>False</td>\n",
       "      <td>4</td>\n",
       "    </tr>\n",
       "    <tr>\n",
       "      <th>136405</th>\n",
       "      <td>virology-001</td>\n",
       "      <td>913</td>\n",
       "      <td>True</td>\n",
       "      <td>4</td>\n",
       "    </tr>\n",
       "    <tr>\n",
       "      <th>136406</th>\n",
       "      <td>virology-001</td>\n",
       "      <td>914</td>\n",
       "      <td>True</td>\n",
       "      <td>1</td>\n",
       "    </tr>\n",
       "  </tbody>\n",
       "</table>\n",
       "<p>136407 rows × 4 columns</p>\n",
       "</div>"
      ],
      "text/plain": [
       "                   course_id  thread_id  is_post  post_id\n",
       "0       analysenumerique-001          2    False        2\n",
       "1       analysenumerique-001          2     True        9\n",
       "2       analysenumerique-001          3    False        3\n",
       "3       analysenumerique-001          3     True       16\n",
       "4       analysenumerique-001          4     True        2\n",
       "...                      ...        ...      ...      ...\n",
       "136402          virology-001        911     True        5\n",
       "136403          virology-001        912     True        2\n",
       "136404          virology-001        913    False        4\n",
       "136405          virology-001        913     True        4\n",
       "136406          virology-001        914     True        1\n",
       "\n",
       "[136407 rows x 4 columns]"
      ]
     },
     "execution_count": 11,
     "metadata": {},
     "output_type": "execute_result"
    }
   ],
   "source": [
    "# grouping the columns\n",
    "tmp = df2.groupby(['course_id', 'thread_id', 'is_post']).count()[['post_id']].reset_index() \n",
    "tmp"
   ]
  },
  {
   "cell_type": "code",
   "execution_count": 12,
   "metadata": {},
   "outputs": [
    {
     "data": {
      "text/html": [
       "<div>\n",
       "<style scoped>\n",
       "    .dataframe tbody tr th:only-of-type {\n",
       "        vertical-align: middle;\n",
       "    }\n",
       "\n",
       "    .dataframe tbody tr th {\n",
       "        vertical-align: top;\n",
       "    }\n",
       "\n",
       "    .dataframe thead th {\n",
       "        text-align: right;\n",
       "    }\n",
       "</style>\n",
       "<table border=\"1\" class=\"dataframe\">\n",
       "  <thead>\n",
       "    <tr style=\"text-align: right;\">\n",
       "      <th></th>\n",
       "      <th>course_id</th>\n",
       "      <th>thread_id</th>\n",
       "      <th>is_post</th>\n",
       "      <th>count</th>\n",
       "    </tr>\n",
       "  </thead>\n",
       "  <tbody>\n",
       "    <tr>\n",
       "      <th>0</th>\n",
       "      <td>analysenumerique-001</td>\n",
       "      <td>2</td>\n",
       "      <td>False</td>\n",
       "      <td>2</td>\n",
       "    </tr>\n",
       "    <tr>\n",
       "      <th>1</th>\n",
       "      <td>analysenumerique-001</td>\n",
       "      <td>2</td>\n",
       "      <td>True</td>\n",
       "      <td>9</td>\n",
       "    </tr>\n",
       "    <tr>\n",
       "      <th>2</th>\n",
       "      <td>analysenumerique-001</td>\n",
       "      <td>3</td>\n",
       "      <td>False</td>\n",
       "      <td>3</td>\n",
       "    </tr>\n",
       "    <tr>\n",
       "      <th>3</th>\n",
       "      <td>analysenumerique-001</td>\n",
       "      <td>3</td>\n",
       "      <td>True</td>\n",
       "      <td>16</td>\n",
       "    </tr>\n",
       "    <tr>\n",
       "      <th>4</th>\n",
       "      <td>analysenumerique-001</td>\n",
       "      <td>4</td>\n",
       "      <td>True</td>\n",
       "      <td>2</td>\n",
       "    </tr>\n",
       "  </tbody>\n",
       "</table>\n",
       "</div>"
      ],
      "text/plain": [
       "              course_id  thread_id  is_post  count\n",
       "0  analysenumerique-001          2    False      2\n",
       "1  analysenumerique-001          2     True      9\n",
       "2  analysenumerique-001          3    False      3\n",
       "3  analysenumerique-001          3     True     16\n",
       "4  analysenumerique-001          4     True      2"
      ]
     },
     "execution_count": 12,
     "metadata": {},
     "output_type": "execute_result"
    }
   ],
   "source": [
    "tmp['count'] = tmp['post_id'] # replacing the column post_id with count\n",
    "tmp.drop('post_id', axis=1, inplace=True)\n",
    "tmp.head()"
   ]
  },
  {
   "cell_type": "code",
   "execution_count": 13,
   "metadata": {},
   "outputs": [
    {
     "data": {
      "text/html": [
       "<div>\n",
       "<style scoped>\n",
       "    .dataframe tbody tr th:only-of-type {\n",
       "        vertical-align: middle;\n",
       "    }\n",
       "\n",
       "    .dataframe tbody tr th {\n",
       "        vertical-align: top;\n",
       "    }\n",
       "\n",
       "    .dataframe thead th {\n",
       "        text-align: right;\n",
       "    }\n",
       "</style>\n",
       "<table border=\"1\" class=\"dataframe\">\n",
       "  <thead>\n",
       "    <tr style=\"text-align: right;\">\n",
       "      <th></th>\n",
       "      <th>course_id</th>\n",
       "      <th>thread_id</th>\n",
       "      <th>is_post</th>\n",
       "      <th>count</th>\n",
       "      <th>num_posts</th>\n",
       "      <th>num_comments</th>\n",
       "    </tr>\n",
       "  </thead>\n",
       "  <tbody>\n",
       "    <tr>\n",
       "      <th>0</th>\n",
       "      <td>analysenumerique-001</td>\n",
       "      <td>2</td>\n",
       "      <td>False</td>\n",
       "      <td>2</td>\n",
       "      <td>0</td>\n",
       "      <td>2</td>\n",
       "    </tr>\n",
       "    <tr>\n",
       "      <th>1</th>\n",
       "      <td>analysenumerique-001</td>\n",
       "      <td>2</td>\n",
       "      <td>True</td>\n",
       "      <td>9</td>\n",
       "      <td>9</td>\n",
       "      <td>0</td>\n",
       "    </tr>\n",
       "    <tr>\n",
       "      <th>2</th>\n",
       "      <td>analysenumerique-001</td>\n",
       "      <td>3</td>\n",
       "      <td>False</td>\n",
       "      <td>3</td>\n",
       "      <td>0</td>\n",
       "      <td>3</td>\n",
       "    </tr>\n",
       "    <tr>\n",
       "      <th>3</th>\n",
       "      <td>analysenumerique-001</td>\n",
       "      <td>3</td>\n",
       "      <td>True</td>\n",
       "      <td>16</td>\n",
       "      <td>16</td>\n",
       "      <td>0</td>\n",
       "    </tr>\n",
       "    <tr>\n",
       "      <th>4</th>\n",
       "      <td>analysenumerique-001</td>\n",
       "      <td>4</td>\n",
       "      <td>True</td>\n",
       "      <td>2</td>\n",
       "      <td>2</td>\n",
       "      <td>0</td>\n",
       "    </tr>\n",
       "  </tbody>\n",
       "</table>\n",
       "</div>"
      ],
      "text/plain": [
       "              course_id  thread_id  is_post  count  num_posts  num_comments\n",
       "0  analysenumerique-001          2    False      2          0             2\n",
       "1  analysenumerique-001          2     True      9          9             0\n",
       "2  analysenumerique-001          3    False      3          0             3\n",
       "3  analysenumerique-001          3     True     16         16             0\n",
       "4  analysenumerique-001          4     True      2          2             0"
      ]
     },
     "execution_count": 13,
     "metadata": {},
     "output_type": "execute_result"
    }
   ],
   "source": [
    "tmp['num_posts'] = 0\n",
    "tmp['num_comments'] = 0\n",
    "\n",
    "#checking if it's a post or a commentan and replacing it with the value from count\n",
    "tmp.loc[tmp.is_post == True, 'num_posts'] = tmp['count']\n",
    "tmp.loc[tmp.is_post==False, 'num_comments'] = tmp['count']\n",
    "tmp.head()"
   ]
  },
  {
   "cell_type": "code",
   "execution_count": 14,
   "metadata": {},
   "outputs": [
    {
     "data": {
      "text/html": [
       "<div>\n",
       "<style scoped>\n",
       "    .dataframe tbody tr th:only-of-type {\n",
       "        vertical-align: middle;\n",
       "    }\n",
       "\n",
       "    .dataframe tbody tr th {\n",
       "        vertical-align: top;\n",
       "    }\n",
       "\n",
       "    .dataframe thead th {\n",
       "        text-align: right;\n",
       "    }\n",
       "</style>\n",
       "<table border=\"1\" class=\"dataframe\">\n",
       "  <thead>\n",
       "    <tr style=\"text-align: right;\">\n",
       "      <th></th>\n",
       "      <th>course_id</th>\n",
       "      <th>thread_id</th>\n",
       "      <th>is_post</th>\n",
       "      <th>count</th>\n",
       "      <th>num_posts</th>\n",
       "      <th>num_comments</th>\n",
       "    </tr>\n",
       "  </thead>\n",
       "  <tbody>\n",
       "    <tr>\n",
       "      <th>0</th>\n",
       "      <td>analysenumerique-001</td>\n",
       "      <td>2</td>\n",
       "      <td>True</td>\n",
       "      <td>9</td>\n",
       "      <td>9</td>\n",
       "      <td>2</td>\n",
       "    </tr>\n",
       "    <tr>\n",
       "      <th>1</th>\n",
       "      <td>analysenumerique-001</td>\n",
       "      <td>3</td>\n",
       "      <td>True</td>\n",
       "      <td>16</td>\n",
       "      <td>16</td>\n",
       "      <td>3</td>\n",
       "    </tr>\n",
       "    <tr>\n",
       "      <th>2</th>\n",
       "      <td>analysenumerique-001</td>\n",
       "      <td>4</td>\n",
       "      <td>True</td>\n",
       "      <td>2</td>\n",
       "      <td>2</td>\n",
       "      <td>0</td>\n",
       "    </tr>\n",
       "    <tr>\n",
       "      <th>3</th>\n",
       "      <td>analysenumerique-001</td>\n",
       "      <td>7</td>\n",
       "      <td>True</td>\n",
       "      <td>3</td>\n",
       "      <td>3</td>\n",
       "      <td>0</td>\n",
       "    </tr>\n",
       "    <tr>\n",
       "      <th>4</th>\n",
       "      <td>analysenumerique-001</td>\n",
       "      <td>8</td>\n",
       "      <td>True</td>\n",
       "      <td>8</td>\n",
       "      <td>8</td>\n",
       "      <td>1</td>\n",
       "    </tr>\n",
       "  </tbody>\n",
       "</table>\n",
       "</div>"
      ],
      "text/plain": [
       "              course_id  thread_id  is_post  count  num_posts  num_comments\n",
       "0  analysenumerique-001          2     True      9          9             2\n",
       "1  analysenumerique-001          3     True     16         16             3\n",
       "2  analysenumerique-001          4     True      2          2             0\n",
       "3  analysenumerique-001          7     True      3          3             0\n",
       "4  analysenumerique-001          8     True      8          8             1"
      ]
     },
     "execution_count": 14,
     "metadata": {},
     "output_type": "execute_result"
    }
   ],
   "source": [
    "tmp = tmp.groupby(['course_id', 'thread_id']).max().reset_index()\n",
    "tmp.head()"
   ]
  },
  {
   "cell_type": "code",
   "execution_count": 15,
   "metadata": {},
   "outputs": [
    {
     "data": {
      "text/html": [
       "<div>\n",
       "<style scoped>\n",
       "    .dataframe tbody tr th:only-of-type {\n",
       "        vertical-align: middle;\n",
       "    }\n",
       "\n",
       "    .dataframe tbody tr th {\n",
       "        vertical-align: top;\n",
       "    }\n",
       "\n",
       "    .dataframe thead th {\n",
       "        text-align: right;\n",
       "    }\n",
       "</style>\n",
       "<table border=\"1\" class=\"dataframe\">\n",
       "  <thead>\n",
       "    <tr style=\"text-align: right;\">\n",
       "      <th></th>\n",
       "      <th>thread_id</th>\n",
       "      <th>course_id</th>\n",
       "      <th>og_forum</th>\n",
       "      <th>og_forum_id</th>\n",
       "      <th>parent_forum</th>\n",
       "      <th>parent_forum_id</th>\n",
       "      <th>forum_chain</th>\n",
       "      <th>depth</th>\n",
       "      <th>num_views</th>\n",
       "      <th>num_tags</th>\n",
       "      <th>forum_id</th>\n",
       "      <th>is_post</th>\n",
       "      <th>count</th>\n",
       "      <th>num_posts</th>\n",
       "      <th>num_comments</th>\n",
       "    </tr>\n",
       "  </thead>\n",
       "  <tbody>\n",
       "    <tr>\n",
       "      <th>0</th>\n",
       "      <td>5</td>\n",
       "      <td>assetpricing-001</td>\n",
       "      <td>Quizzes and Homeworks</td>\n",
       "      <td>3</td>\n",
       "      <td>Forums</td>\n",
       "      <td>0.0</td>\n",
       "      <td>Forums/ Quizzes and Homeworks</td>\n",
       "      <td>2</td>\n",
       "      <td>242</td>\n",
       "      <td>0</td>\n",
       "      <td>3</td>\n",
       "      <td>True</td>\n",
       "      <td>5</td>\n",
       "      <td>5</td>\n",
       "      <td>0</td>\n",
       "    </tr>\n",
       "    <tr>\n",
       "      <th>1</th>\n",
       "      <td>6</td>\n",
       "      <td>assetpricing-001</td>\n",
       "      <td>Quizzes and Homeworks</td>\n",
       "      <td>3</td>\n",
       "      <td>Forums</td>\n",
       "      <td>0.0</td>\n",
       "      <td>Forums/ Quizzes and Homeworks</td>\n",
       "      <td>2</td>\n",
       "      <td>122</td>\n",
       "      <td>0</td>\n",
       "      <td>3</td>\n",
       "      <td>True</td>\n",
       "      <td>4</td>\n",
       "      <td>4</td>\n",
       "      <td>0</td>\n",
       "    </tr>\n",
       "  </tbody>\n",
       "</table>\n",
       "</div>"
      ],
      "text/plain": [
       "   thread_id         course_id               og_forum  og_forum_id  \\\n",
       "0          5  assetpricing-001  Quizzes and Homeworks            3   \n",
       "1          6  assetpricing-001  Quizzes and Homeworks            3   \n",
       "\n",
       "  parent_forum  parent_forum_id                    forum_chain  depth  \\\n",
       "0       Forums              0.0  Forums/ Quizzes and Homeworks      2   \n",
       "1       Forums              0.0  Forums/ Quizzes and Homeworks      2   \n",
       "\n",
       "   num_views  num_tags  forum_id  is_post  count  num_posts  num_comments  \n",
       "0        242         0         3     True      5          5             0  \n",
       "1        122         0         3     True      4          4             0  "
      ]
     },
     "execution_count": 15,
     "metadata": {},
     "output_type": "execute_result"
    }
   ],
   "source": [
    "#creating a dataframe where forum_=3,4 and merging the with earlier dataframe tmp\n",
    "fig4_dat = df.query(\"forum_id == 4|forum_id==3\").merge(tmp, on=['course_id', 'thread_id'])\n",
    "fig4_dat.head(2)"
   ]
  },
  {
   "cell_type": "code",
   "execution_count": 16,
   "metadata": {},
   "outputs": [
    {
     "data": {
      "text/html": [
       "<div>\n",
       "<style scoped>\n",
       "    .dataframe tbody tr th:only-of-type {\n",
       "        vertical-align: middle;\n",
       "    }\n",
       "\n",
       "    .dataframe tbody tr th {\n",
       "        vertical-align: top;\n",
       "    }\n",
       "\n",
       "    .dataframe thead th {\n",
       "        text-align: right;\n",
       "    }\n",
       "</style>\n",
       "<table border=\"1\" class=\"dataframe\">\n",
       "  <thead>\n",
       "    <tr style=\"text-align: right;\">\n",
       "      <th></th>\n",
       "      <th>forum_id</th>\n",
       "      <th>num_posts</th>\n",
       "      <th>num_comments</th>\n",
       "    </tr>\n",
       "  </thead>\n",
       "  <tbody>\n",
       "    <tr>\n",
       "      <th>0</th>\n",
       "      <td>3</td>\n",
       "      <td>5</td>\n",
       "      <td>0</td>\n",
       "    </tr>\n",
       "    <tr>\n",
       "      <th>1</th>\n",
       "      <td>3</td>\n",
       "      <td>4</td>\n",
       "      <td>0</td>\n",
       "    </tr>\n",
       "  </tbody>\n",
       "</table>\n",
       "</div>"
      ],
      "text/plain": [
       "   forum_id  num_posts  num_comments\n",
       "0         3          5             0\n",
       "1         3          4             0"
      ]
     },
     "execution_count": 16,
     "metadata": {},
     "output_type": "execute_result"
    }
   ],
   "source": [
    "#creating a dataframe with only three columns\n",
    "fig4_dat = fig4_dat[['forum_id', 'num_posts', 'num_comments']]\n",
    "fig4_dat.head(2)"
   ]
  },
  {
   "cell_type": "code",
   "execution_count": 17,
   "metadata": {},
   "outputs": [
    {
     "data": {
      "image/png": "[encoded data removed]",
      "text/plain": [
       "<Figure size 432x288 with 1 Axes>"
      ]
     },
     "metadata": {
      "needs_background": "light"
     },
     "output_type": "display_data"
    }
   ],
   "source": [
    "#plotting scatterplot for the graph4\n",
    "sns.scatterplot(data=fig4_dat, x='num_posts', y='num_comments', hue='forum_id')\n",
    "\n",
    "#setting limits for x and y axis\n",
    "\n",
    "plt.xlim(0,100)\n",
    "plt.ylim(0,100)\n",
    "\n",
    "#setting labels and the title\n",
    "plt.xlabel(\"Number of Posts\")\n",
    "plt.ylabel(\"Number of Comments\")\n",
    "plt.title(\"Scatter plot showing relationship between Number of comments and number of posts for Assignments and Study Group\");"
   ]
  },
  {
   "cell_type": "markdown",
   "metadata": {},
   "source": [
    "# Figure 2a"
   ]
  },
  {
   "cell_type": "code",
   "execution_count": 18,
   "metadata": {},
   "outputs": [
    {
     "data": {
      "text/html": [
       "<div>\n",
       "<style scoped>\n",
       "    .dataframe tbody tr th:only-of-type {\n",
       "        vertical-align: middle;\n",
       "    }\n",
       "\n",
       "    .dataframe tbody tr th {\n",
       "        vertical-align: top;\n",
       "    }\n",
       "\n",
       "    .dataframe thead th {\n",
       "        text-align: right;\n",
       "    }\n",
       "</style>\n",
       "<table border=\"1\" class=\"dataframe\">\n",
       "  <thead>\n",
       "    <tr style=\"text-align: right;\">\n",
       "      <th></th>\n",
       "      <th>course_id</th>\n",
       "      <th>thread_count</th>\n",
       "    </tr>\n",
       "  </thead>\n",
       "  <tbody>\n",
       "    <tr>\n",
       "      <th>0</th>\n",
       "      <td>analysenumerique-001</td>\n",
       "      <td>119</td>\n",
       "    </tr>\n",
       "    <tr>\n",
       "      <th>1</th>\n",
       "      <td>assetpricing-001</td>\n",
       "      <td>673</td>\n",
       "    </tr>\n",
       "    <tr>\n",
       "      <th>2</th>\n",
       "      <td>automata-002</td>\n",
       "      <td>429</td>\n",
       "    </tr>\n",
       "    <tr>\n",
       "      <th>3</th>\n",
       "      <td>bigdata-edu-001</td>\n",
       "      <td>585</td>\n",
       "    </tr>\n",
       "    <tr>\n",
       "      <th>4</th>\n",
       "      <td>bioinformatics-001</td>\n",
       "      <td>1160</td>\n",
       "    </tr>\n",
       "  </tbody>\n",
       "</table>\n",
       "</div>"
      ],
      "text/plain": [
       "              course_id  thread_count\n",
       "0  analysenumerique-001           119\n",
       "1      assetpricing-001           673\n",
       "2          automata-002           429\n",
       "3       bigdata-edu-001           585\n",
       "4    bioinformatics-001          1160"
      ]
     },
     "execution_count": 18,
     "metadata": {},
     "output_type": "execute_result"
    }
   ],
   "source": [
    "#using groupby to get the count of threads per course_id\n",
    "thread_count_df = DataFrame({'thread_count' : df.groupby( [ \"course_id\"] ).size()}).reset_index()\n",
    "thread_count_df.head()"
   ]
  },
  {
   "cell_type": "code",
   "execution_count": 19,
   "metadata": {},
   "outputs": [
    {
     "data": {
      "text/html": [
       "<div>\n",
       "<style scoped>\n",
       "    .dataframe tbody tr th:only-of-type {\n",
       "        vertical-align: middle;\n",
       "    }\n",
       "\n",
       "    .dataframe tbody tr th {\n",
       "        vertical-align: top;\n",
       "    }\n",
       "\n",
       "    .dataframe thead th {\n",
       "        text-align: right;\n",
       "    }\n",
       "</style>\n",
       "<table border=\"1\" class=\"dataframe\">\n",
       "  <thead>\n",
       "    <tr style=\"text-align: right;\">\n",
       "      <th></th>\n",
       "      <th>thread_id</th>\n",
       "      <th>thread_size</th>\n",
       "    </tr>\n",
       "  </thead>\n",
       "  <tbody>\n",
       "    <tr>\n",
       "      <th>0</th>\n",
       "      <td>1</td>\n",
       "      <td>46</td>\n",
       "    </tr>\n",
       "    <tr>\n",
       "      <th>1</th>\n",
       "      <td>2</td>\n",
       "      <td>50</td>\n",
       "    </tr>\n",
       "    <tr>\n",
       "      <th>2</th>\n",
       "      <td>3</td>\n",
       "      <td>48</td>\n",
       "    </tr>\n",
       "    <tr>\n",
       "      <th>3</th>\n",
       "      <td>4</td>\n",
       "      <td>55</td>\n",
       "    </tr>\n",
       "    <tr>\n",
       "      <th>4</th>\n",
       "      <td>5</td>\n",
       "      <td>51</td>\n",
       "    </tr>\n",
       "  </tbody>\n",
       "</table>\n",
       "</div>"
      ],
      "text/plain": [
       "   thread_id  thread_size\n",
       "0          1           46\n",
       "1          2           50\n",
       "2          3           48\n",
       "3          4           55\n",
       "4          5           51"
      ]
     },
     "execution_count": 19,
     "metadata": {},
     "output_type": "execute_result"
    }
   ],
   "source": [
    "#using groupby to get the thread_size of a single thread \n",
    "thread_size_df = DataFrame({'thread_size' : df.groupby( [ \"thread_id\"] ).size()}).reset_index()\n",
    "thread_size_df.head()"
   ]
  },
  {
   "cell_type": "code",
   "execution_count": 20,
   "metadata": {},
   "outputs": [
    {
     "data": {
      "text/html": [
       "<div>\n",
       "<style scoped>\n",
       "    .dataframe tbody tr th:only-of-type {\n",
       "        vertical-align: middle;\n",
       "    }\n",
       "\n",
       "    .dataframe tbody tr th {\n",
       "        vertical-align: top;\n",
       "    }\n",
       "\n",
       "    .dataframe thead th {\n",
       "        text-align: right;\n",
       "    }\n",
       "</style>\n",
       "<table border=\"1\" class=\"dataframe\">\n",
       "  <thead>\n",
       "    <tr style=\"text-align: right;\">\n",
       "      <th></th>\n",
       "      <th>thread_size</th>\n",
       "    </tr>\n",
       "    <tr>\n",
       "      <th>course_id</th>\n",
       "      <th></th>\n",
       "    </tr>\n",
       "  </thead>\n",
       "  <tbody>\n",
       "    <tr>\n",
       "      <th>analysenumerique-001</th>\n",
       "      <td>57.025210</td>\n",
       "    </tr>\n",
       "    <tr>\n",
       "      <th>assetpricing-001</th>\n",
       "      <td>48.829123</td>\n",
       "    </tr>\n",
       "    <tr>\n",
       "      <th>automata-002</th>\n",
       "      <td>52.655012</td>\n",
       "    </tr>\n",
       "    <tr>\n",
       "      <th>bigdata-edu-001</th>\n",
       "      <td>50.029060</td>\n",
       "    </tr>\n",
       "    <tr>\n",
       "      <th>bioinformatics-001</th>\n",
       "      <td>40.534483</td>\n",
       "    </tr>\n",
       "  </tbody>\n",
       "</table>\n",
       "</div>"
      ],
      "text/plain": [
       "                      thread_size\n",
       "course_id                        \n",
       "analysenumerique-001    57.025210\n",
       "assetpricing-001        48.829123\n",
       "automata-002            52.655012\n",
       "bigdata-edu-001         50.029060\n",
       "bioinformatics-001      40.534483"
      ]
     },
     "execution_count": 20,
     "metadata": {},
     "output_type": "execute_result"
    }
   ],
   "source": [
    "thread_size_df_1 = pd.merge(thread_size_df, df, on='thread_id', how='inner')[['thread_size', 'course_id']] #merging two datasets\n",
    "thread_size_per_course_df = thread_size_df_1.groupby(['course_id']).mean() #using groupby to get mean thread_size count per course_id\n",
    "thread_size_per_course_df.head()"
   ]
  },
  {
   "cell_type": "code",
   "execution_count": 21,
   "metadata": {},
   "outputs": [],
   "source": [
    "fig_2_a_df = pd.merge(thread_size_per_course_df, thread_count_df, on='course_id', how='inner') #merging two datasets"
   ]
  },
  {
   "cell_type": "code",
   "execution_count": 22,
   "metadata": {},
   "outputs": [
    {
     "data": {
      "text/plain": [
       "<AxesSubplot:xlabel='thread_count', ylabel='thread_size'>"
      ]
     },
     "execution_count": 22,
     "metadata": {},
     "output_type": "execute_result"
    },
    {
     "data": {
      "image/png": "[encoded data removed]",
      "text/plain": [
       "<Figure size 504x504 with 1 Axes>"
      ]
     },
     "metadata": {
      "needs_background": "light"
     },
     "output_type": "display_data"
    }
   ],
   "source": [
    "#plotting scatterplot\n",
    "f, ax = plt.subplots(figsize=(7, 7))\n",
    "ax.set(xscale=\"log\", yscale=\"log\")\n",
    "sns.regplot(x=\"thread_count\", y=\"thread_size\", data=fig_2_a_df, ax=ax, scatter_kws={\"s\": 100})"
   ]
  },
  {
   "cell_type": "markdown",
   "metadata": {},
   "source": [
    "# Figure 2b"
   ]
  },
  {
   "cell_type": "code",
   "execution_count": 23,
   "metadata": {
    "scrolled": true
   },
   "outputs": [
    {
     "data": {
      "text/html": [
       "<div>\n",
       "<style scoped>\n",
       "    .dataframe tbody tr th:only-of-type {\n",
       "        vertical-align: middle;\n",
       "    }\n",
       "\n",
       "    .dataframe tbody tr th {\n",
       "        vertical-align: top;\n",
       "    }\n",
       "\n",
       "    .dataframe thead th {\n",
       "        text-align: right;\n",
       "    }\n",
       "</style>\n",
       "<table border=\"1\" class=\"dataframe\">\n",
       "  <thead>\n",
       "    <tr style=\"text-align: right;\">\n",
       "      <th></th>\n",
       "      <th>thread_id</th>\n",
       "      <th>thread_size</th>\n",
       "    </tr>\n",
       "  </thead>\n",
       "  <tbody>\n",
       "    <tr>\n",
       "      <th>0</th>\n",
       "      <td>1</td>\n",
       "      <td>46</td>\n",
       "    </tr>\n",
       "    <tr>\n",
       "      <th>1</th>\n",
       "      <td>2</td>\n",
       "      <td>50</td>\n",
       "    </tr>\n",
       "    <tr>\n",
       "      <th>2</th>\n",
       "      <td>3</td>\n",
       "      <td>48</td>\n",
       "    </tr>\n",
       "    <tr>\n",
       "      <th>3</th>\n",
       "      <td>4</td>\n",
       "      <td>55</td>\n",
       "    </tr>\n",
       "    <tr>\n",
       "      <th>4</th>\n",
       "      <td>5</td>\n",
       "      <td>51</td>\n",
       "    </tr>\n",
       "  </tbody>\n",
       "</table>\n",
       "</div>"
      ],
      "text/plain": [
       "   thread_id  thread_size\n",
       "0          1           46\n",
       "1          2           50\n",
       "2          3           48\n",
       "3          4           55\n",
       "4          5           51"
      ]
     },
     "execution_count": 23,
     "metadata": {},
     "output_type": "execute_result"
    }
   ],
   "source": [
    "thread_size_df.head()"
   ]
  },
  {
   "cell_type": "code",
   "execution_count": 39,
   "metadata": {
    "scrolled": true
   },
   "outputs": [],
   "source": [
    "user_count_df = df2.groupby('course_id')['user_id'].count().to_frame().reset_index() #grouping the user_id with respect to course_id\n",
    "user_count_df['num_users'] = user_count_df['user_id'] #naming user_id as num_users"
   ]
  },
  {
   "cell_type": "code",
   "execution_count": 40,
   "metadata": {},
   "outputs": [
    {
     "data": {
      "text/html": [
       "<div>\n",
       "<style scoped>\n",
       "    .dataframe tbody tr th:only-of-type {\n",
       "        vertical-align: middle;\n",
       "    }\n",
       "\n",
       "    .dataframe tbody tr th {\n",
       "        vertical-align: top;\n",
       "    }\n",
       "\n",
       "    .dataframe thead th {\n",
       "        text-align: right;\n",
       "    }\n",
       "</style>\n",
       "<table border=\"1\" class=\"dataframe\">\n",
       "  <thead>\n",
       "    <tr style=\"text-align: right;\">\n",
       "      <th></th>\n",
       "      <th>course_id</th>\n",
       "      <th>user_id</th>\n",
       "      <th>num_users</th>\n",
       "    </tr>\n",
       "  </thead>\n",
       "  <tbody>\n",
       "    <tr>\n",
       "      <th>0</th>\n",
       "      <td>analysenumerique-001</td>\n",
       "      <td>741</td>\n",
       "      <td>741</td>\n",
       "    </tr>\n",
       "    <tr>\n",
       "      <th>1</th>\n",
       "      <td>assetpricing-001</td>\n",
       "      <td>3025</td>\n",
       "      <td>3025</td>\n",
       "    </tr>\n",
       "    <tr>\n",
       "      <th>2</th>\n",
       "      <td>automata-002</td>\n",
       "      <td>2715</td>\n",
       "      <td>2715</td>\n",
       "    </tr>\n",
       "    <tr>\n",
       "      <th>3</th>\n",
       "      <td>bigdata-edu-001</td>\n",
       "      <td>4210</td>\n",
       "      <td>4210</td>\n",
       "    </tr>\n",
       "    <tr>\n",
       "      <th>4</th>\n",
       "      <td>bioinformatics-001</td>\n",
       "      <td>9258</td>\n",
       "      <td>9258</td>\n",
       "    </tr>\n",
       "  </tbody>\n",
       "</table>\n",
       "</div>"
      ],
      "text/plain": [
       "              course_id  user_id  num_users\n",
       "0  analysenumerique-001      741        741\n",
       "1      assetpricing-001     3025       3025\n",
       "2          automata-002     2715       2715\n",
       "3       bigdata-edu-001     4210       4210\n",
       "4    bioinformatics-001     9258       9258"
      ]
     },
     "execution_count": 40,
     "metadata": {},
     "output_type": "execute_result"
    }
   ],
   "source": [
    "user_count_df.head()"
   ]
  },
  {
   "cell_type": "code",
   "execution_count": 41,
   "metadata": {},
   "outputs": [],
   "source": [
    "fig_2_b_df = pd.merge(thread_size_per_course_df, user_count_df, on='course_id', how='inner') #merging two datasets"
   ]
  },
  {
   "cell_type": "code",
   "execution_count": 45,
   "metadata": {},
   "outputs": [
    {
     "data": {
      "text/plain": [
       "<AxesSubplot:xlabel='num_users', ylabel='thread_size'>"
      ]
     },
     "execution_count": 45,
     "metadata": {},
     "output_type": "execute_result"
    },
    {
     "data": {
      "image/png": "[encoded data removed]",
      "text/plain": [
       "<Figure size 504x504 with 1 Axes>"
      ]
     },
     "metadata": {
      "needs_background": "light"
     },
     "output_type": "display_data"
    }
   ],
   "source": [
    "#plotting scatterplot\n",
    "f, ax = plt.subplots(figsize=(7, 7))\n",
    "ax.set(xscale=\"log\", yscale=\"log\")\n",
    "sns.regplot(x=\"num_users\", y=\"thread_size\", data=fig_2_b_df, ax=ax, scatter_kws={\"s\": 100})"
   ]
  }
 ],
 "metadata": {
  "kernelspec": {
   "display_name": "Python 3",
   "language": "python",
   "name": "python3"
  },
  "language_info": {
   "codemirror_mode": {
    "name": "ipython",
    "version": 3
   },
   "file_extension": ".py",
   "mimetype": "text/x-python",
   "name": "python",
   "nbconvert_exporter": "python",
   "pygments_lexer": "ipython3",
   "version": "3.8.5"
  }
 },
 "nbformat": 4,
 "nbformat_minor": 4
}
