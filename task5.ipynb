{
 "cells": [
  {
   "cell_type": "code",
   "execution_count": 43,
   "metadata": {
    "scrolled": false
   },
   "outputs": [
    {
     "name": "stderr",
     "output_type": "stream",
     "text": [
      "ERROR: Could not find a version that satisfies the requirement cross_validation (from versions: none)\n",
      "ERROR: No matching distribution found for cross_validation\n",
      "WARNING: You are using pip version 20.2.3; however, version 20.2.4 is available.\n",
      "You should consider upgrading via the 'C:\\Users\\M.V.NIKHIL YADAV\\Desktop\\test\\test1\\Scripts\\python.exe -m pip install --upgrade pip' command.\n"
     ]
    }
   ],
   "source": [
    "!pip install "
   ]
  },
  {
   "cell_type": "code",
   "execution_count": 1,
   "metadata": {},
   "outputs": [
    {
     "data": {
      "text/plain": [
       "'3.7.4 (tags/v3.7.4:e09359112e, Jul  8 2019, 20:34:20) [MSC v.1916 64 bit (AMD64)]'"
      ]
     },
     "execution_count": 1,
     "metadata": {},
     "output_type": "execute_result"
    }
   ],
   "source": [
    "import sys\n",
    "sys.version"
   ]
  },
  {
   "cell_type": "code",
   "execution_count": 2,
   "metadata": {},
   "outputs": [],
   "source": [
    "#importing the required libraries\n",
    "import pandas as pd\n",
    "import numpy as np \n",
    "import xgboost as xgb\n",
    "from xgboost import XGBClassifier"
   ]
  },
  {
   "cell_type": "code",
   "execution_count": 3,
   "metadata": {},
   "outputs": [],
   "source": [
    "df = pd.read_csv('content1_8_final.csv')"
   ]
  },
  {
   "cell_type": "code",
   "execution_count": 4,
   "metadata": {},
   "outputs": [
    {
     "data": {
      "text/html": [
       "<div>\n",
       "<style scoped>\n",
       "    .dataframe tbody tr th:only-of-type {\n",
       "        vertical-align: middle;\n",
       "    }\n",
       "\n",
       "    .dataframe tbody tr th {\n",
       "        vertical-align: top;\n",
       "    }\n",
       "\n",
       "    .dataframe thead th {\n",
       "        text-align: right;\n",
       "    }\n",
       "</style>\n",
       "<table border=\"1\" class=\"dataframe\">\n",
       "  <thead>\n",
       "    <tr style=\"text-align: right;\">\n",
       "      <th></th>\n",
       "      <th>course_id</th>\n",
       "      <th>thread_id</th>\n",
       "      <th>no_of_posts</th>\n",
       "      <th>no_of_comments</th>\n",
       "      <th>no_uni_users</th>\n",
       "      <th>no_of_anonymous_msg</th>\n",
       "      <th>staff_replied</th>\n",
       "      <th>no of msgs</th>\n",
       "      <th>avg_num_words</th>\n",
       "      <th>max_words</th>\n",
       "      <th>avg_resp_time</th>\n",
       "      <th>first_post_day</th>\n",
       "      <th>msg_rate</th>\n",
       "      <th>u_chain</th>\n",
       "      <th>index_longest_post</th>\n",
       "      <th>num_views</th>\n",
       "      <th>votes</th>\n",
       "      <th>votes_Square</th>\n",
       "      <th>index_max_votes</th>\n",
       "      <th>forum_id</th>\n",
       "    </tr>\n",
       "  </thead>\n",
       "  <tbody>\n",
       "    <tr>\n",
       "      <th>0</th>\n",
       "      <td>analysenumerique-001</td>\n",
       "      <td>2</td>\n",
       "      <td>9.0</td>\n",
       "      <td>2.0</td>\n",
       "      <td>5.0</td>\n",
       "      <td>2.0</td>\n",
       "      <td>0.0</td>\n",
       "      <td>11.0</td>\n",
       "      <td>12.454545</td>\n",
       "      <td>31.0</td>\n",
       "      <td>-152871.727273</td>\n",
       "      <td>2</td>\n",
       "      <td>1.359260e+09</td>\n",
       "      <td>True</td>\n",
       "      <td>4</td>\n",
       "      <td>277</td>\n",
       "      <td>2</td>\n",
       "      <td>4</td>\n",
       "      <td>0</td>\n",
       "      <td>10</td>\n",
       "    </tr>\n",
       "    <tr>\n",
       "      <th>1</th>\n",
       "      <td>analysenumerique-001</td>\n",
       "      <td>2</td>\n",
       "      <td>9.0</td>\n",
       "      <td>2.0</td>\n",
       "      <td>5.0</td>\n",
       "      <td>2.0</td>\n",
       "      <td>0.0</td>\n",
       "      <td>11.0</td>\n",
       "      <td>12.454545</td>\n",
       "      <td>31.0</td>\n",
       "      <td>-152871.727273</td>\n",
       "      <td>2</td>\n",
       "      <td>1.359260e+09</td>\n",
       "      <td>True</td>\n",
       "      <td>4</td>\n",
       "      <td>277</td>\n",
       "      <td>0</td>\n",
       "      <td>0</td>\n",
       "      <td>0</td>\n",
       "      <td>10</td>\n",
       "    </tr>\n",
       "    <tr>\n",
       "      <th>2</th>\n",
       "      <td>analysenumerique-001</td>\n",
       "      <td>2</td>\n",
       "      <td>9.0</td>\n",
       "      <td>2.0</td>\n",
       "      <td>5.0</td>\n",
       "      <td>2.0</td>\n",
       "      <td>0.0</td>\n",
       "      <td>11.0</td>\n",
       "      <td>12.454545</td>\n",
       "      <td>31.0</td>\n",
       "      <td>-152871.727273</td>\n",
       "      <td>2</td>\n",
       "      <td>1.359260e+09</td>\n",
       "      <td>True</td>\n",
       "      <td>4</td>\n",
       "      <td>277</td>\n",
       "      <td>1</td>\n",
       "      <td>1</td>\n",
       "      <td>0</td>\n",
       "      <td>10</td>\n",
       "    </tr>\n",
       "    <tr>\n",
       "      <th>3</th>\n",
       "      <td>analysenumerique-001</td>\n",
       "      <td>2</td>\n",
       "      <td>9.0</td>\n",
       "      <td>2.0</td>\n",
       "      <td>5.0</td>\n",
       "      <td>2.0</td>\n",
       "      <td>0.0</td>\n",
       "      <td>11.0</td>\n",
       "      <td>12.454545</td>\n",
       "      <td>31.0</td>\n",
       "      <td>-152871.727273</td>\n",
       "      <td>2</td>\n",
       "      <td>1.359260e+09</td>\n",
       "      <td>True</td>\n",
       "      <td>4</td>\n",
       "      <td>277</td>\n",
       "      <td>0</td>\n",
       "      <td>0</td>\n",
       "      <td>0</td>\n",
       "      <td>10</td>\n",
       "    </tr>\n",
       "    <tr>\n",
       "      <th>4</th>\n",
       "      <td>analysenumerique-001</td>\n",
       "      <td>2</td>\n",
       "      <td>9.0</td>\n",
       "      <td>2.0</td>\n",
       "      <td>5.0</td>\n",
       "      <td>2.0</td>\n",
       "      <td>0.0</td>\n",
       "      <td>11.0</td>\n",
       "      <td>12.454545</td>\n",
       "      <td>31.0</td>\n",
       "      <td>-152871.727273</td>\n",
       "      <td>2</td>\n",
       "      <td>1.359260e+09</td>\n",
       "      <td>True</td>\n",
       "      <td>4</td>\n",
       "      <td>277</td>\n",
       "      <td>0</td>\n",
       "      <td>0</td>\n",
       "      <td>0</td>\n",
       "      <td>10</td>\n",
       "    </tr>\n",
       "    <tr>\n",
       "      <th>...</th>\n",
       "      <td>...</td>\n",
       "      <td>...</td>\n",
       "      <td>...</td>\n",
       "      <td>...</td>\n",
       "      <td>...</td>\n",
       "      <td>...</td>\n",
       "      <td>...</td>\n",
       "      <td>...</td>\n",
       "      <td>...</td>\n",
       "      <td>...</td>\n",
       "      <td>...</td>\n",
       "      <td>...</td>\n",
       "      <td>...</td>\n",
       "      <td>...</td>\n",
       "      <td>...</td>\n",
       "      <td>...</td>\n",
       "      <td>...</td>\n",
       "      <td>...</td>\n",
       "      <td>...</td>\n",
       "      <td>...</td>\n",
       "    </tr>\n",
       "    <tr>\n",
       "      <th>739069</th>\n",
       "      <td>virology-001</td>\n",
       "      <td>913</td>\n",
       "      <td>4.0</td>\n",
       "      <td>4.0</td>\n",
       "      <td>6.0</td>\n",
       "      <td>1.0</td>\n",
       "      <td>0.0</td>\n",
       "      <td>8.0</td>\n",
       "      <td>49.125000</td>\n",
       "      <td>86.0</td>\n",
       "      <td>-11545.000000</td>\n",
       "      <td>1</td>\n",
       "      <td>1.383151e+09</td>\n",
       "      <td>True</td>\n",
       "      <td>739068</td>\n",
       "      <td>121</td>\n",
       "      <td>1</td>\n",
       "      <td>1</td>\n",
       "      <td>739065</td>\n",
       "      <td>2</td>\n",
       "    </tr>\n",
       "    <tr>\n",
       "      <th>739070</th>\n",
       "      <td>virology-001</td>\n",
       "      <td>913</td>\n",
       "      <td>4.0</td>\n",
       "      <td>4.0</td>\n",
       "      <td>6.0</td>\n",
       "      <td>1.0</td>\n",
       "      <td>0.0</td>\n",
       "      <td>8.0</td>\n",
       "      <td>49.125000</td>\n",
       "      <td>86.0</td>\n",
       "      <td>-11545.000000</td>\n",
       "      <td>1</td>\n",
       "      <td>1.383151e+09</td>\n",
       "      <td>True</td>\n",
       "      <td>739068</td>\n",
       "      <td>121</td>\n",
       "      <td>0</td>\n",
       "      <td>0</td>\n",
       "      <td>739065</td>\n",
       "      <td>2</td>\n",
       "    </tr>\n",
       "    <tr>\n",
       "      <th>739071</th>\n",
       "      <td>virology-001</td>\n",
       "      <td>913</td>\n",
       "      <td>4.0</td>\n",
       "      <td>4.0</td>\n",
       "      <td>6.0</td>\n",
       "      <td>1.0</td>\n",
       "      <td>0.0</td>\n",
       "      <td>8.0</td>\n",
       "      <td>49.125000</td>\n",
       "      <td>86.0</td>\n",
       "      <td>-11545.000000</td>\n",
       "      <td>1</td>\n",
       "      <td>1.383151e+09</td>\n",
       "      <td>True</td>\n",
       "      <td>739068</td>\n",
       "      <td>121</td>\n",
       "      <td>0</td>\n",
       "      <td>0</td>\n",
       "      <td>739065</td>\n",
       "      <td>2</td>\n",
       "    </tr>\n",
       "    <tr>\n",
       "      <th>739072</th>\n",
       "      <td>virology-001</td>\n",
       "      <td>913</td>\n",
       "      <td>4.0</td>\n",
       "      <td>4.0</td>\n",
       "      <td>6.0</td>\n",
       "      <td>1.0</td>\n",
       "      <td>0.0</td>\n",
       "      <td>8.0</td>\n",
       "      <td>49.125000</td>\n",
       "      <td>86.0</td>\n",
       "      <td>-11545.000000</td>\n",
       "      <td>1</td>\n",
       "      <td>1.383151e+09</td>\n",
       "      <td>True</td>\n",
       "      <td>739068</td>\n",
       "      <td>121</td>\n",
       "      <td>2</td>\n",
       "      <td>4</td>\n",
       "      <td>739065</td>\n",
       "      <td>2</td>\n",
       "    </tr>\n",
       "    <tr>\n",
       "      <th>739073</th>\n",
       "      <td>virology-001</td>\n",
       "      <td>914</td>\n",
       "      <td>1.0</td>\n",
       "      <td>0.0</td>\n",
       "      <td>1.0</td>\n",
       "      <td>0.0</td>\n",
       "      <td>0.0</td>\n",
       "      <td>1.0</td>\n",
       "      <td>71.000000</td>\n",
       "      <td>71.0</td>\n",
       "      <td>-0.000000</td>\n",
       "      <td>2</td>\n",
       "      <td>1.383117e+09</td>\n",
       "      <td>False</td>\n",
       "      <td>739073</td>\n",
       "      <td>11</td>\n",
       "      <td>0</td>\n",
       "      <td>0</td>\n",
       "      <td>739073</td>\n",
       "      <td>8</td>\n",
       "    </tr>\n",
       "  </tbody>\n",
       "</table>\n",
       "<p>739074 rows × 20 columns</p>\n",
       "</div>"
      ],
      "text/plain": [
       "                   course_id  thread_id  no_of_posts  no_of_comments  \\\n",
       "0       analysenumerique-001          2          9.0             2.0   \n",
       "1       analysenumerique-001          2          9.0             2.0   \n",
       "2       analysenumerique-001          2          9.0             2.0   \n",
       "3       analysenumerique-001          2          9.0             2.0   \n",
       "4       analysenumerique-001          2          9.0             2.0   \n",
       "...                      ...        ...          ...             ...   \n",
       "739069          virology-001        913          4.0             4.0   \n",
       "739070          virology-001        913          4.0             4.0   \n",
       "739071          virology-001        913          4.0             4.0   \n",
       "739072          virology-001        913          4.0             4.0   \n",
       "739073          virology-001        914          1.0             0.0   \n",
       "\n",
       "        no_uni_users  no_of_anonymous_msg  staff_replied  no of msgs  \\\n",
       "0                5.0                  2.0            0.0        11.0   \n",
       "1                5.0                  2.0            0.0        11.0   \n",
       "2                5.0                  2.0            0.0        11.0   \n",
       "3                5.0                  2.0            0.0        11.0   \n",
       "4                5.0                  2.0            0.0        11.0   \n",
       "...              ...                  ...            ...         ...   \n",
       "739069           6.0                  1.0            0.0         8.0   \n",
       "739070           6.0                  1.0            0.0         8.0   \n",
       "739071           6.0                  1.0            0.0         8.0   \n",
       "739072           6.0                  1.0            0.0         8.0   \n",
       "739073           1.0                  0.0            0.0         1.0   \n",
       "\n",
       "        avg_num_words  max_words  avg_resp_time  first_post_day      msg_rate  \\\n",
       "0           12.454545       31.0 -152871.727273               2  1.359260e+09   \n",
       "1           12.454545       31.0 -152871.727273               2  1.359260e+09   \n",
       "2           12.454545       31.0 -152871.727273               2  1.359260e+09   \n",
       "3           12.454545       31.0 -152871.727273               2  1.359260e+09   \n",
       "4           12.454545       31.0 -152871.727273               2  1.359260e+09   \n",
       "...               ...        ...            ...             ...           ...   \n",
       "739069      49.125000       86.0  -11545.000000               1  1.383151e+09   \n",
       "739070      49.125000       86.0  -11545.000000               1  1.383151e+09   \n",
       "739071      49.125000       86.0  -11545.000000               1  1.383151e+09   \n",
       "739072      49.125000       86.0  -11545.000000               1  1.383151e+09   \n",
       "739073      71.000000       71.0      -0.000000               2  1.383117e+09   \n",
       "\n",
       "        u_chain  index_longest_post  num_views  votes  votes_Square  \\\n",
       "0          True                   4        277      2             4   \n",
       "1          True                   4        277      0             0   \n",
       "2          True                   4        277      1             1   \n",
       "3          True                   4        277      0             0   \n",
       "4          True                   4        277      0             0   \n",
       "...         ...                 ...        ...    ...           ...   \n",
       "739069     True              739068        121      1             1   \n",
       "739070     True              739068        121      0             0   \n",
       "739071     True              739068        121      0             0   \n",
       "739072     True              739068        121      2             4   \n",
       "739073    False              739073         11      0             0   \n",
       "\n",
       "        index_max_votes  forum_id  \n",
       "0                     0        10  \n",
       "1                     0        10  \n",
       "2                     0        10  \n",
       "3                     0        10  \n",
       "4                     0        10  \n",
       "...                 ...       ...  \n",
       "739069           739065         2  \n",
       "739070           739065         2  \n",
       "739071           739065         2  \n",
       "739072           739065         2  \n",
       "739073           739073         8  \n",
       "\n",
       "[739074 rows x 20 columns]"
      ]
     },
     "execution_count": 4,
     "metadata": {},
     "output_type": "execute_result"
    }
   ],
   "source": [
    "df"
   ]
  },
  {
   "cell_type": "code",
   "execution_count": 5,
   "metadata": {},
   "outputs": [
    {
     "data": {
      "text/plain": [
       "517351"
      ]
     },
     "execution_count": 5,
     "metadata": {},
     "output_type": "execute_result"
    }
   ],
   "source": [
    "#allocating the features and labels\n",
    "x=df[['thread_id','no_of_posts','no_of_comments','no_of_anonymous_msg','staff_replied','no of msgs','avg_num_words','max_words','avg_resp_time','first_post_day','msg_rate','u_chain','index_longest_post','num_views','votes','votes_Square','index_max_votes']]\n",
    "y=df[['forum_id']]\n",
    "from sklearn.model_selection import train_test_split\n",
    "X_train, X_test, Y_train, Y_test = train_test_split(x,y, test_size=0.30,random_state=42)\n",
    "len(X_train)"
   ]
  },
  {
   "cell_type": "code",
   "execution_count": 6,
   "metadata": {},
   "outputs": [
    {
     "data": {
      "text/plain": [
       "517351"
      ]
     },
     "execution_count": 6,
     "metadata": {},
     "output_type": "execute_result"
    }
   ],
   "source": [
    "len(Y_train)"
   ]
  },
  {
   "cell_type": "code",
   "execution_count": 7,
   "metadata": {},
   "outputs": [
    {
     "data": {
      "text/html": [
       "<div>\n",
       "<style scoped>\n",
       "    .dataframe tbody tr th:only-of-type {\n",
       "        vertical-align: middle;\n",
       "    }\n",
       "\n",
       "    .dataframe tbody tr th {\n",
       "        vertical-align: top;\n",
       "    }\n",
       "\n",
       "    .dataframe thead th {\n",
       "        text-align: right;\n",
       "    }\n",
       "</style>\n",
       "<table border=\"1\" class=\"dataframe\">\n",
       "  <thead>\n",
       "    <tr style=\"text-align: right;\">\n",
       "      <th></th>\n",
       "      <th>forum_id</th>\n",
       "    </tr>\n",
       "  </thead>\n",
       "  <tbody>\n",
       "    <tr>\n",
       "      <th>104236</th>\n",
       "      <td>3</td>\n",
       "    </tr>\n",
       "    <tr>\n",
       "      <th>631654</th>\n",
       "      <td>7</td>\n",
       "    </tr>\n",
       "    <tr>\n",
       "      <th>625280</th>\n",
       "      <td>3</td>\n",
       "    </tr>\n",
       "    <tr>\n",
       "      <th>716717</th>\n",
       "      <td>3</td>\n",
       "    </tr>\n",
       "    <tr>\n",
       "      <th>588502</th>\n",
       "      <td>3</td>\n",
       "    </tr>\n",
       "  </tbody>\n",
       "</table>\n",
       "</div>"
      ],
      "text/plain": [
       "        forum_id\n",
       "104236         3\n",
       "631654         7\n",
       "625280         3\n",
       "716717         3\n",
       "588502         3"
      ]
     },
     "execution_count": 7,
     "metadata": {},
     "output_type": "execute_result"
    }
   ],
   "source": [
    "Y_test.head()"
   ]
  },
  {
   "cell_type": "code",
   "execution_count": null,
   "metadata": {},
   "outputs": [],
   "source": [
    "#fitting the svm model\n",
    "#Import svm model\n",
    "from sklearn import svm\n",
    "\n",
    "#Create a svm Classifier\n",
    "clf = svm.SVC(kernel='linear') # Linear Kernel\n",
    "\n",
    "#Train the model using the training sets\n",
    "clf.fit(X_train, np.ravel(Y_train))\n",
    "\n",
    "#Predict the response for test dataset\n",
    "y_pred = clf.predict(X_test)"
   ]
  },
  {
   "cell_type": "markdown",
   "metadata": {},
   "source": [
    "# XGBoost Model fit"
   ]
  },
  {
   "cell_type": "code",
   "execution_count": null,
   "metadata": {},
   "outputs": [],
   "source": [
    "gbm = xgb.XGBClassifier().fit(X_train, np.ravel(Y_train)) #fitting the xgboost model "
   ]
  },
  {
   "cell_type": "code",
   "execution_count": 11,
   "metadata": {},
   "outputs": [],
   "source": [
    "predictions = gbm.predict(X_test) #predicting the model"
   ]
  },
  {
   "cell_type": "code",
   "execution_count": 33,
   "metadata": {},
   "outputs": [
    {
     "name": "stdout",
     "output_type": "stream",
     "text": [
      "Precision = 0.7189872501703721\n",
      "Recall = 0.5104390082891334\n",
      "Accuracy = 0.668996901539308\n"
     ]
    }
   ],
   "source": [
    "from sklearn.metrics import precision_score, recall_score, accuracy_score\n",
    "print(\"Precision = {}\".format(precision_score(Y_test, predictions, average='macro')))\n",
    "print(\"Recall = {}\".format(recall_score(Y_test, predictions, average='macro')))\n",
    "print(\"Accuracy = {}\".format(accuracy_score(Y_test, predictions)))"
   ]
  },
  {
   "cell_type": "markdown",
   "metadata": {},
   "source": [
    "# Classification report"
   ]
  },
  {
   "cell_type": "code",
   "execution_count": 65,
   "metadata": {
    "scrolled": true
   },
   "outputs": [
    {
     "name": "stdout",
     "output_type": "stream",
     "text": [
      "              precision    recall  f1-score   support\n",
      "\n",
      "           2       0.61      0.60      0.60     51987\n",
      "           3       0.61      0.84      0.71     57596\n",
      "           4       0.80      0.75      0.78     19100\n",
      "           7       1.00      0.04      0.08      5597\n",
      "           8       0.64      0.46      0.54     33153\n",
      "           9       0.58      0.09      0.16      5492\n",
      "          10       0.79      0.78      0.78     48798\n",
      "\n",
      "    accuracy                           0.67    221723\n",
      "   macro avg       0.72      0.51      0.52    221723\n",
      "weighted avg       0.68      0.67      0.65    221723\n",
      "\n"
     ]
    }
   ],
   "source": [
    "from sklearn.metrics import classification_report , confusion_matrix\n",
    "print(classification_report(Y_test,predictions))"
   ]
  },
  {
   "cell_type": "code",
   "execution_count": 80,
   "metadata": {},
   "outputs": [
    {
     "name": "stdout",
     "output_type": "stream",
     "text": [
      "TN - True Negatives : 31241\n",
      "FP - False Positives: 13006\n",
      "FN - False Negatives: 4292\n",
      "TP - True Positives : 48577\n"
     ]
    }
   ],
   "source": [
    "con = confusion_matrix(Y_test,predictions)\n",
    "print('TN - True Negatives : {}'.format(con[0,0]))\n",
    "print('FP - False Positives: {}'.format(con[0,1]))\n",
    "print('FN - False Negatives: {}'.format(con[1,0]))\n",
    "print('TP - True Positives : {}'.format(con[1,1]))"
   ]
  },
  {
   "cell_type": "markdown",
   "metadata": {},
   "source": [
    "# performing hyper-parameter tuning"
   ]
  },
  {
   "cell_type": "code",
   "execution_count": 89,
   "metadata": {},
   "outputs": [],
   "source": [
    "from bayes_opt import BayesianOptimization\n",
    "from sklearn.metrics import mean_squared_error\n",
    "from sklearn.model_selection import cross_val_score"
   ]
  },
  {
   "cell_type": "markdown",
   "metadata": {},
   "source": [
    "# optimizing hyper-parameters"
   ]
  },
  {
   "cell_type": "code",
   "execution_count": 90,
   "metadata": {},
   "outputs": [],
   "source": [
    "pbounds = {\n",
    "    'learning_rate': (0.01, 1.0),\n",
    "    'n_estimators': (100, 1000),\n",
    "    'max_depth': (3,10),\n",
    "    'subsample': (1.0, 1.0),  # Change for big datasets\n",
    "    'colsample': (1.0, 1.0),  # Change for datasets with lots of features\n",
    "    'gamma': (0, 5)}\n"
   ]
  },
  {
   "cell_type": "code",
   "execution_count": 93,
   "metadata": {},
   "outputs": [],
   "source": [
    "def xgboost_hyper_param(learning_rate,\n",
    "                        n_estimators,\n",
    "                        max_depth,\n",
    "                        subsample,\n",
    "                        colsample,\n",
    "                        gamma):\n",
    "    max_depth = int(max_depth)\n",
    "    n_estimators = int(n_estimators)\n",
    "    clf = XGBClassifier(\n",
    "        max_depth=max_depth,\n",
    "        learning_rate=learning_rate,\n",
    "        n_estimators=n_estimators,\n",
    "        gamma=gamma)\n",
    "    return np.mean(cross_val_score(clf, X_train, Y_train, cv=3, scoring='roc_auc'))"
   ]
  },
  {
   "cell_type": "code",
   "execution_count": 94,
   "metadata": {},
   "outputs": [],
   "source": [
    "optimizer = BayesianOptimization(\n",
    "    f=xgboost_hyper_param,\n",
    "    pbounds=pbounds,\n",
    "    random_state=1,\n",
    ")"
   ]
  },
  {
   "cell_type": "markdown",
   "metadata": {},
   "source": [
    "# fitting the xgboost model with tuned parameters"
   ]
  },
  {
   "cell_type": "code",
   "execution_count": 100,
   "metadata": {},
   "outputs": [],
   "source": [
    "classifier2 = xgb.XGBClassifier(optimizer).fit(X_train, Y_train)"
   ]
  },
  {
   "cell_type": "code",
   "execution_count": 101,
   "metadata": {},
   "outputs": [],
   "source": [
    "prediction2 = classifier2.predict(X_test)"
   ]
  },
  {
   "cell_type": "code",
   "execution_count": 103,
   "metadata": {},
   "outputs": [
    {
     "name": "stdout",
     "output_type": "stream",
     "text": [
      "Precision = 0.8609487017519939\n",
      "Recall = 0.7417247901081322\n",
      "Accuracy = 0.833278460060526\n"
     ]
    }
   ],
   "source": [
    "print(\"Precision = {}\".format(precision_score(Y_test, prediction2, average='macro')))\n",
    "print(\"Recall = {}\".format(recall_score(Y_test, prediction2, average='macro')))\n",
    "print(\"Accuracy = {}\".format(accuracy_score(Y_test, prediction2)))"
   ]
  },
  {
   "cell_type": "markdown",
   "metadata": {},
   "source": [
    "# classification report"
   ]
  },
  {
   "cell_type": "code",
   "execution_count": 104,
   "metadata": {},
   "outputs": [
    {
     "name": "stdout",
     "output_type": "stream",
     "text": [
      "              precision    recall  f1-score   support\n",
      "\n",
      "           2       0.81      0.79      0.80     51987\n",
      "           3       0.79      0.91      0.84     57596\n",
      "           4       0.95      0.92      0.94     19100\n",
      "           7       0.93      0.45      0.61      5597\n",
      "           8       0.79      0.73      0.75     33153\n",
      "           9       0.87      0.49      0.62      5492\n",
      "          10       0.90      0.91      0.91     48798\n",
      "\n",
      "    accuracy                           0.83    221723\n",
      "   macro avg       0.86      0.74      0.78    221723\n",
      "weighted avg       0.84      0.83      0.83    221723\n",
      "\n"
     ]
    }
   ],
   "source": [
    "print(classification_report(Y_test,prediction2))"
   ]
  },
  {
   "cell_type": "markdown",
   "metadata": {},
   "source": [
    "# 1. as you can see the accuracy has increased after tuning the parameters.\n",
    "# 2. precision has increased from the normal xgboost model with default parameters.\n",
    "# 3. recall has increased from the normal xgboost modelc with default paramets.\n",
    "# 4. fi-score has increased from the normal xgboost modelc with default paramets."
   ]
  },
  {
   "cell_type": "code",
   "execution_count": null,
   "metadata": {},
   "outputs": [],
   "source": []
  }
 ],
 "metadata": {
  "kernelspec": {
   "display_name": "Python 3",
   "language": "python",
   "name": "python3"
  },
  "language_info": {
   "codemirror_mode": {
    "name": "ipython",
    "version": 3
   },
   "file_extension": ".py",
   "mimetype": "text/x-python",
   "name": "python",
   "nbconvert_exporter": "python",
   "pygments_lexer": "ipython3",
   "version": "3.7.4"
  }
 },
 "nbformat": 4,
 "nbformat_minor": 4
}
